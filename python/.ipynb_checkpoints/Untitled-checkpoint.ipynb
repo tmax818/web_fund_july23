{
 "cells": [
  {
   "cell_type": "markdown",
   "id": "9207a076",
   "metadata": {},
   "source": [
    "# variables\n",
    "- variables, locations in memeory that store info"
   ]
  },
  {
   "cell_type": "markdown",
   "id": "6b4fb3a0",
   "metadata": {},
   "source": [
    "age = 42"
   ]
  },
  {
   "cell_type": "code",
   "execution_count": 3,
   "id": "06740298",
   "metadata": {},
   "outputs": [
    {
     "data": {
      "text/plain": [
       "2809553749520"
      ]
     },
     "execution_count": 3,
     "metadata": {},
     "output_type": "execute_result"
    }
   ],
   "source": [
    "id(age)"
   ]
  },
  {
   "cell_type": "code",
   "execution_count": 2,
   "id": "830536c4",
   "metadata": {},
   "outputs": [
    {
     "name": "stdout",
     "output_type": "stream",
     "text": [
      "42\n"
     ]
    }
   ],
   "source": [
    "print(age)"
   ]
  },
  {
   "cell_type": "code",
   "execution_count": 4,
   "id": "6dffc510",
   "metadata": {},
   "outputs": [],
   "source": [
    "name = 'Tyler'"
   ]
  },
  {
   "cell_type": "code",
   "execution_count": 5,
   "id": "f532b3da",
   "metadata": {},
   "outputs": [
    {
     "name": "stdout",
     "output_type": "stream",
     "text": [
      "Tyler\n"
     ]
    }
   ],
   "source": [
    "print(name)"
   ]
  },
  {
   "cell_type": "markdown",
   "id": "ad486865",
   "metadata": {},
   "source": [
    "# arrays\n",
    "arrays are called lists"
   ]
  },
  {
   "cell_type": "code",
   "execution_count": 6,
   "id": "790a4bf1",
   "metadata": {},
   "outputs": [],
   "source": [
    "scores = [45, 67, 98, 75]"
   ]
  },
  {
   "cell_type": "code",
   "execution_count": 7,
   "id": "dc34d396",
   "metadata": {},
   "outputs": [
    {
     "name": "stdout",
     "output_type": "stream",
     "text": [
      "[45, 67, 98, 75]\n"
     ]
    }
   ],
   "source": [
    "print(scores)"
   ]
  },
  {
   "cell_type": "code",
   "execution_count": 8,
   "id": "5291491f",
   "metadata": {},
   "outputs": [],
   "source": [
    "scores.append(32)"
   ]
  },
  {
   "cell_type": "code",
   "execution_count": 9,
   "id": "839fb0dc",
   "metadata": {},
   "outputs": [
    {
     "name": "stdout",
     "output_type": "stream",
     "text": [
      "[45, 67, 98, 75, 32]\n"
     ]
    }
   ],
   "source": [
    "print(scores)"
   ]
  },
  {
   "cell_type": "code",
   "execution_count": 11,
   "id": "187909cb",
   "metadata": {},
   "outputs": [],
   "source": [
    "scores.remove(45)"
   ]
  },
  {
   "cell_type": "code",
   "execution_count": 12,
   "id": "21e618dc",
   "metadata": {},
   "outputs": [
    {
     "name": "stdout",
     "output_type": "stream",
     "text": [
      "[67, 98, 75, 32]\n"
     ]
    }
   ],
   "source": [
    "print(scores)"
   ]
  },
  {
   "cell_type": "code",
   "execution_count": 14,
   "id": "fb468418",
   "metadata": {},
   "outputs": [
    {
     "name": "stdout",
     "output_type": "stream",
     "text": [
      "67\n",
      "98\n",
      "75\n",
      "32\n"
     ]
    }
   ],
   "source": [
    "for score in scores:\n",
    "    print(score)"
   ]
  },
  {
   "cell_type": "code",
   "execution_count": 15,
   "id": "b66956e5",
   "metadata": {},
   "outputs": [],
   "source": [
    "def my_funct():\n",
    "    \n",
    "    print(\"whatever\")\n",
    "    answer = 3 + 4\n",
    "    print(answer)\n",
    "    for i in range(100):\n",
    "        print(i)\n",
    "        \n"
   ]
  },
  {
   "cell_type": "code",
   "execution_count": 16,
   "id": "85491006",
   "metadata": {},
   "outputs": [
    {
     "name": "stdout",
     "output_type": "stream",
     "text": [
      "whatever\n",
      "7\n"
     ]
    }
   ],
   "source": [
    "my_funct()"
   ]
  },
  {
   "cell_type": "code",
   "execution_count": null,
   "id": "7e600c0b",
   "metadata": {},
   "outputs": [],
   "source": []
  }
 ],
 "metadata": {
  "kernelspec": {
   "display_name": "Python 3 (ipykernel)",
   "language": "python",
   "name": "python3"
  },
  "language_info": {
   "codemirror_mode": {
    "name": "ipython",
    "version": 3
   },
   "file_extension": ".py",
   "mimetype": "text/x-python",
   "name": "python",
   "nbconvert_exporter": "python",
   "pygments_lexer": "ipython3",
   "version": "3.10.2"
  }
 },
 "nbformat": 4,
 "nbformat_minor": 5
}
